{
 "cells": [
  {
   "cell_type": "code",
   "execution_count": 1,
   "id": "1a3357d8",
   "metadata": {},
   "outputs": [],
   "source": [
    "import pandas as pd \n",
    "import numpy as np \n",
    "import matplotlib.pyplot as plt "
   ]
  },
  {
   "cell_type": "code",
   "execution_count": 2,
   "id": "adf1c8d8",
   "metadata": {
    "scrolled": false
   },
   "outputs": [],
   "source": [
    "vente = pd.read_csv(\"VENTES.csv\", sep = \";\")\n",
    "produit = pd.read_csv(\"PRODUITS.csv\", sep = \";\")\n",
    "client = pd.read_csv(\"CLIENTS.csv\", sep = \";\")\n",
    "# uniquement les clients français\n",
    "client = client.query('NATIONALITE_CLIENT == \"FR\"')"
   ]
  },
  {
   "cell_type": "code",
   "execution_count": 3,
   "id": "eaeb4e97",
   "metadata": {
    "scrolled": true
   },
   "outputs": [
    {
     "data": {
      "text/html": [
       "<div>\n",
       "<style scoped>\n",
       "    .dataframe tbody tr th:only-of-type {\n",
       "        vertical-align: middle;\n",
       "    }\n",
       "\n",
       "    .dataframe tbody tr th {\n",
       "        vertical-align: top;\n",
       "    }\n",
       "\n",
       "    .dataframe thead th {\n",
       "        text-align: right;\n",
       "    }\n",
       "</style>\n",
       "<table border=\"1\" class=\"dataframe\">\n",
       "  <thead>\n",
       "    <tr style=\"text-align: right;\">\n",
       "      <th></th>\n",
       "      <th>RCUCRM</th>\n",
       "      <th>MCVT</th>\n",
       "      <th>SAISON</th>\n",
       "      <th>PLANT</th>\n",
       "      <th>CANAL</th>\n",
       "      <th>NUM_ACHAT</th>\n",
       "      <th>DATE_ACHAT</th>\n",
       "      <th>SEMAINE_ETAM</th>\n",
       "      <th>PAYS_ACHAT</th>\n",
       "      <th>CATTC</th>\n",
       "    </tr>\n",
       "  </thead>\n",
       "  <tbody>\n",
       "    <tr>\n",
       "      <th>0</th>\n",
       "      <td>33731521.0</td>\n",
       "      <td>652109338004</td>\n",
       "      <td>20210001</td>\n",
       "      <td>2483</td>\n",
       "      <td>MAG</td>\n",
       "      <td>20210605248301402812</td>\n",
       "      <td>2021-06-05</td>\n",
       "      <td>2021022</td>\n",
       "      <td>FR</td>\n",
       "      <td>9.95</td>\n",
       "    </tr>\n",
       "    <tr>\n",
       "      <th>1</th>\n",
       "      <td>33731521.0</td>\n",
       "      <td>652561267004</td>\n",
       "      <td>20210001</td>\n",
       "      <td>2483</td>\n",
       "      <td>MAG</td>\n",
       "      <td>20210605248301402812</td>\n",
       "      <td>2021-06-05</td>\n",
       "      <td>2021022</td>\n",
       "      <td>FR</td>\n",
       "      <td>9.95</td>\n",
       "    </tr>\n",
       "    <tr>\n",
       "      <th>2</th>\n",
       "      <td>33731521.0</td>\n",
       "      <td>652379505004</td>\n",
       "      <td>20210001</td>\n",
       "      <td>2483</td>\n",
       "      <td>MAG</td>\n",
       "      <td>20210605248301402812</td>\n",
       "      <td>2021-06-05</td>\n",
       "      <td>2021022</td>\n",
       "      <td>FR</td>\n",
       "      <td>9.95</td>\n",
       "    </tr>\n",
       "    <tr>\n",
       "      <th>3</th>\n",
       "      <td>33731521.0</td>\n",
       "      <td>652109238004</td>\n",
       "      <td>20210001</td>\n",
       "      <td>2483</td>\n",
       "      <td>MAG</td>\n",
       "      <td>20210605248301402812</td>\n",
       "      <td>2021-06-05</td>\n",
       "      <td>2021022</td>\n",
       "      <td>FR</td>\n",
       "      <td>6.95</td>\n",
       "    </tr>\n",
       "    <tr>\n",
       "      <th>4</th>\n",
       "      <td>33731521.0</td>\n",
       "      <td>654342121007</td>\n",
       "      <td>20230002</td>\n",
       "      <td>2483</td>\n",
       "      <td>MAG</td>\n",
       "      <td>20231221248302183651</td>\n",
       "      <td>2023-12-21</td>\n",
       "      <td>2023051</td>\n",
       "      <td>FR</td>\n",
       "      <td>19.99</td>\n",
       "    </tr>\n",
       "  </tbody>\n",
       "</table>\n",
       "</div>"
      ],
      "text/plain": [
       "       RCUCRM          MCVT    SAISON  PLANT CANAL             NUM_ACHAT  \\\n",
       "0  33731521.0  652109338004  20210001   2483   MAG  20210605248301402812   \n",
       "1  33731521.0  652561267004  20210001   2483   MAG  20210605248301402812   \n",
       "2  33731521.0  652379505004  20210001   2483   MAG  20210605248301402812   \n",
       "3  33731521.0  652109238004  20210001   2483   MAG  20210605248301402812   \n",
       "4  33731521.0  654342121007  20230002   2483   MAG  20231221248302183651   \n",
       "\n",
       "   DATE_ACHAT  SEMAINE_ETAM PAYS_ACHAT  CATTC  \n",
       "0  2021-06-05       2021022         FR   9.95  \n",
       "1  2021-06-05       2021022         FR   9.95  \n",
       "2  2021-06-05       2021022         FR   9.95  \n",
       "3  2021-06-05       2021022         FR   6.95  \n",
       "4  2023-12-21       2023051         FR  19.99  "
      ]
     },
     "execution_count": 3,
     "metadata": {},
     "output_type": "execute_result"
    }
   ],
   "source": [
    "vente.head()"
   ]
  },
  {
   "cell_type": "code",
   "execution_count": 4,
   "id": "5b423aa8",
   "metadata": {},
   "outputs": [
    {
     "data": {
      "text/html": [
       "<div>\n",
       "<style scoped>\n",
       "    .dataframe tbody tr th:only-of-type {\n",
       "        vertical-align: middle;\n",
       "    }\n",
       "\n",
       "    .dataframe tbody tr th {\n",
       "        vertical-align: top;\n",
       "    }\n",
       "\n",
       "    .dataframe thead th {\n",
       "        text-align: right;\n",
       "    }\n",
       "</style>\n",
       "<table border=\"1\" class=\"dataframe\">\n",
       "  <thead>\n",
       "    <tr style=\"text-align: right;\">\n",
       "      <th></th>\n",
       "      <th>MCVT</th>\n",
       "      <th>SAISON</th>\n",
       "      <th>SEGMENT</th>\n",
       "    </tr>\n",
       "  </thead>\n",
       "  <tbody>\n",
       "    <tr>\n",
       "      <th>0</th>\n",
       "      <td>646445805105</td>\n",
       "      <td>20190002</td>\n",
       "      <td>DAYWEAR</td>\n",
       "    </tr>\n",
       "    <tr>\n",
       "      <th>3</th>\n",
       "      <td>649044425003</td>\n",
       "      <td>20190002</td>\n",
       "      <td>MAN</td>\n",
       "    </tr>\n",
       "    <tr>\n",
       "      <th>6</th>\n",
       "      <td>646445801106</td>\n",
       "      <td>20190002</td>\n",
       "      <td>DAYWEAR</td>\n",
       "    </tr>\n",
       "    <tr>\n",
       "      <th>9</th>\n",
       "      <td>650878311005</td>\n",
       "      <td>20200001</td>\n",
       "      <td>MAN</td>\n",
       "    </tr>\n",
       "    <tr>\n",
       "      <th>11</th>\n",
       "      <td>650878305005</td>\n",
       "      <td>20200001</td>\n",
       "      <td>MAN</td>\n",
       "    </tr>\n",
       "  </tbody>\n",
       "</table>\n",
       "</div>"
      ],
      "text/plain": [
       "            MCVT    SAISON  SEGMENT\n",
       "0   646445805105  20190002  DAYWEAR\n",
       "3   649044425003  20190002      MAN\n",
       "6   646445801106  20190002  DAYWEAR\n",
       "9   650878311005  20200001      MAN\n",
       "11  650878305005  20200001      MAN"
      ]
     },
     "execution_count": 4,
     "metadata": {},
     "output_type": "execute_result"
    }
   ],
   "source": [
    "# drop duplicate of MCVT\n",
    "produit = produit.drop_duplicates(subset = \"MCVT\")\n",
    "produit.head()"
   ]
  },
  {
   "cell_type": "code",
   "execution_count": 5,
   "id": "0feb510b",
   "metadata": {
    "scrolled": true
   },
   "outputs": [
    {
     "data": {
      "text/html": [
       "<div>\n",
       "<style scoped>\n",
       "    .dataframe tbody tr th:only-of-type {\n",
       "        vertical-align: middle;\n",
       "    }\n",
       "\n",
       "    .dataframe tbody tr th {\n",
       "        vertical-align: top;\n",
       "    }\n",
       "\n",
       "    .dataframe thead th {\n",
       "        text-align: right;\n",
       "    }\n",
       "</style>\n",
       "<table border=\"1\" class=\"dataframe\">\n",
       "  <thead>\n",
       "    <tr style=\"text-align: right;\">\n",
       "      <th></th>\n",
       "      <th>RCUCRM</th>\n",
       "      <th>DATE_DE_NAISSANCE</th>\n",
       "      <th>NATIONALITE_CLIENT</th>\n",
       "    </tr>\n",
       "  </thead>\n",
       "  <tbody>\n",
       "    <tr>\n",
       "      <th>0</th>\n",
       "      <td>14715900</td>\n",
       "      <td>NaN</td>\n",
       "      <td>FR</td>\n",
       "    </tr>\n",
       "    <tr>\n",
       "      <th>1</th>\n",
       "      <td>14750731</td>\n",
       "      <td>NaN</td>\n",
       "      <td>FR</td>\n",
       "    </tr>\n",
       "    <tr>\n",
       "      <th>2</th>\n",
       "      <td>14862129</td>\n",
       "      <td>1994-05-16</td>\n",
       "      <td>FR</td>\n",
       "    </tr>\n",
       "    <tr>\n",
       "      <th>3</th>\n",
       "      <td>13880689</td>\n",
       "      <td>1998-04-14</td>\n",
       "      <td>FR</td>\n",
       "    </tr>\n",
       "    <tr>\n",
       "      <th>4</th>\n",
       "      <td>13899111</td>\n",
       "      <td>NaN</td>\n",
       "      <td>FR</td>\n",
       "    </tr>\n",
       "  </tbody>\n",
       "</table>\n",
       "</div>"
      ],
      "text/plain": [
       "     RCUCRM DATE_DE_NAISSANCE NATIONALITE_CLIENT\n",
       "0  14715900               NaN                 FR\n",
       "1  14750731               NaN                 FR\n",
       "2  14862129        1994-05-16                 FR\n",
       "3  13880689        1998-04-14                 FR\n",
       "4  13899111               NaN                 FR"
      ]
     },
     "execution_count": 5,
     "metadata": {},
     "output_type": "execute_result"
    }
   ],
   "source": [
    "client.head()"
   ]
  },
  {
   "cell_type": "code",
   "execution_count": 6,
   "id": "46d5a8e8",
   "metadata": {},
   "outputs": [
    {
     "data": {
      "text/html": [
       "<div>\n",
       "<style scoped>\n",
       "    .dataframe tbody tr th:only-of-type {\n",
       "        vertical-align: middle;\n",
       "    }\n",
       "\n",
       "    .dataframe tbody tr th {\n",
       "        vertical-align: top;\n",
       "    }\n",
       "\n",
       "    .dataframe thead th {\n",
       "        text-align: right;\n",
       "    }\n",
       "</style>\n",
       "<table border=\"1\" class=\"dataframe\">\n",
       "  <thead>\n",
       "    <tr style=\"text-align: right;\">\n",
       "      <th></th>\n",
       "      <th>RCUCRM</th>\n",
       "      <th>MCVT</th>\n",
       "      <th>SAISON</th>\n",
       "      <th>PLANT</th>\n",
       "      <th>CANAL</th>\n",
       "      <th>NUM_ACHAT</th>\n",
       "      <th>DATE_ACHAT</th>\n",
       "      <th>SEMAINE_ETAM</th>\n",
       "      <th>PAYS_ACHAT</th>\n",
       "      <th>CATTC</th>\n",
       "    </tr>\n",
       "  </thead>\n",
       "  <tbody>\n",
       "  </tbody>\n",
       "</table>\n",
       "</div>"
      ],
      "text/plain": [
       "Empty DataFrame\n",
       "Columns: [RCUCRM, MCVT, SAISON, PLANT, CANAL, NUM_ACHAT, DATE_ACHAT, SEMAINE_ETAM, PAYS_ACHAT, CATTC]\n",
       "Index: []"
      ]
     },
     "execution_count": 6,
     "metadata": {},
     "output_type": "execute_result"
    }
   ],
   "source": [
    "# check NaN of vente table \n",
    "\n",
    "vente[vente.CATTC.isna()]\n",
    "\n",
    "vente[vente[\"DATE_ACHAT\"].isna()]\n",
    "\n",
    "# comment: is cleaned"
   ]
  },
  {
   "cell_type": "code",
   "execution_count": 7,
   "id": "d0be6809",
   "metadata": {},
   "outputs": [
    {
     "data": {
      "text/html": [
       "<div>\n",
       "<style scoped>\n",
       "    .dataframe tbody tr th:only-of-type {\n",
       "        vertical-align: middle;\n",
       "    }\n",
       "\n",
       "    .dataframe tbody tr th {\n",
       "        vertical-align: top;\n",
       "    }\n",
       "\n",
       "    .dataframe thead th {\n",
       "        text-align: right;\n",
       "    }\n",
       "</style>\n",
       "<table border=\"1\" class=\"dataframe\">\n",
       "  <thead>\n",
       "    <tr style=\"text-align: right;\">\n",
       "      <th></th>\n",
       "      <th>MCVT</th>\n",
       "      <th>SAISON</th>\n",
       "      <th>SEGMENT</th>\n",
       "    </tr>\n",
       "  </thead>\n",
       "  <tbody>\n",
       "  </tbody>\n",
       "</table>\n",
       "</div>"
      ],
      "text/plain": [
       "Empty DataFrame\n",
       "Columns: [MCVT, SAISON, SEGMENT]\n",
       "Index: []"
      ]
     },
     "execution_count": 7,
     "metadata": {},
     "output_type": "execute_result"
    }
   ],
   "source": [
    "# check NaN of produit table \n",
    "\n",
    "produit[produit[\"MCVT\"].isna()]\n",
    "\n",
    "produit[produit[\"SEGMENT\"].isna()]\n",
    "\n",
    "# comment: is cleaned"
   ]
  },
  {
   "cell_type": "code",
   "execution_count": 8,
   "id": "610d1602",
   "metadata": {},
   "outputs": [
    {
     "data": {
      "text/plain": [
       "18541"
      ]
     },
     "execution_count": 8,
     "metadata": {},
     "output_type": "execute_result"
    }
   ],
   "source": [
    "# check NaN of client table \n",
    "\n",
    "client[client[\"RCUCRM\"].isna()]\n",
    "\n",
    "len(client[client[\"DATE_DE_NAISSANCE\"].isna()])\n",
    "\n",
    "# comment : 18541 french client missing their birthday info\n"
   ]
  },
  {
   "cell_type": "markdown",
   "id": "7d8019f8",
   "metadata": {},
   "source": [
    "## 1. Quel est le chiffre d’affaires mensuel des magasins n° 2179 et 2536 ?\n",
    "(variable PLANT dans la table VENTES = ID magasin)"
   ]
  },
  {
   "cell_type": "code",
   "execution_count": 9,
   "id": "a8c82222",
   "metadata": {},
   "outputs": [],
   "source": [
    "# Create a new column \"month\"\n",
    "vente[\"DATE_MONTH\"] = vente[\"DATE_ACHAT\"].str[5:7]"
   ]
  },
  {
   "cell_type": "code",
   "execution_count": 10,
   "id": "394eda66",
   "metadata": {},
   "outputs": [
    {
     "data": {
      "text/html": [
       "<div>\n",
       "<style scoped>\n",
       "    .dataframe tbody tr th:only-of-type {\n",
       "        vertical-align: middle;\n",
       "    }\n",
       "\n",
       "    .dataframe tbody tr th {\n",
       "        vertical-align: top;\n",
       "    }\n",
       "\n",
       "    .dataframe thead th {\n",
       "        text-align: right;\n",
       "    }\n",
       "</style>\n",
       "<table border=\"1\" class=\"dataframe\">\n",
       "  <thead>\n",
       "    <tr style=\"text-align: right;\">\n",
       "      <th></th>\n",
       "      <th>chiffre d'affaire mensuel</th>\n",
       "    </tr>\n",
       "    <tr>\n",
       "      <th>DATE_MONTH</th>\n",
       "      <th></th>\n",
       "    </tr>\n",
       "  </thead>\n",
       "  <tbody>\n",
       "    <tr>\n",
       "      <th>01</th>\n",
       "      <td>11693.35</td>\n",
       "    </tr>\n",
       "    <tr>\n",
       "      <th>02</th>\n",
       "      <td>6611.32</td>\n",
       "    </tr>\n",
       "    <tr>\n",
       "      <th>03</th>\n",
       "      <td>6389.73</td>\n",
       "    </tr>\n",
       "    <tr>\n",
       "      <th>04</th>\n",
       "      <td>5652.76</td>\n",
       "    </tr>\n",
       "    <tr>\n",
       "      <th>05</th>\n",
       "      <td>9335.83</td>\n",
       "    </tr>\n",
       "    <tr>\n",
       "      <th>06</th>\n",
       "      <td>12527.08</td>\n",
       "    </tr>\n",
       "    <tr>\n",
       "      <th>07</th>\n",
       "      <td>12784.43</td>\n",
       "    </tr>\n",
       "    <tr>\n",
       "      <th>08</th>\n",
       "      <td>9991.02</td>\n",
       "    </tr>\n",
       "    <tr>\n",
       "      <th>09</th>\n",
       "      <td>10927.92</td>\n",
       "    </tr>\n",
       "    <tr>\n",
       "      <th>10</th>\n",
       "      <td>10519.49</td>\n",
       "    </tr>\n",
       "    <tr>\n",
       "      <th>11</th>\n",
       "      <td>9381.82</td>\n",
       "    </tr>\n",
       "    <tr>\n",
       "      <th>12</th>\n",
       "      <td>13696.70</td>\n",
       "    </tr>\n",
       "  </tbody>\n",
       "</table>\n",
       "</div>"
      ],
      "text/plain": [
       "            chiffre d'affaire mensuel\n",
       "DATE_MONTH                           \n",
       "01                           11693.35\n",
       "02                            6611.32\n",
       "03                            6389.73\n",
       "04                            5652.76\n",
       "05                            9335.83\n",
       "06                           12527.08\n",
       "07                           12784.43\n",
       "08                            9991.02\n",
       "09                           10927.92\n",
       "10                           10519.49\n",
       "11                            9381.82\n",
       "12                           13696.70"
      ]
     },
     "execution_count": 10,
     "metadata": {},
     "output_type": "execute_result"
    }
   ],
   "source": [
    "ca_magasin = vente.query(\"PLANT in (2179, 2536)\")\n",
    "\n",
    "ca_mensuel = ca_magasin.groupby(\"DATE_MONTH\").agg({\"CATTC\" : \"sum\"})\n",
    "\n",
    "ca_mensuel.columns = [\"chiffre d'affaire mensuel\"]\n",
    "\n",
    "ca_mensuel"
   ]
  },
  {
   "cell_type": "markdown",
   "id": "78612ed2",
   "metadata": {},
   "source": [
    "## 2. Quel est l'âge moyen des clients ayant acheté du NIGHTWEAR en janvier 2023 ? Celui de ceux n’en ayant pas acheté sur la même période ? \n",
    "(variable SEGMENT dans table PRODUITS)"
   ]
  },
  {
   "cell_type": "code",
   "execution_count": 11,
   "id": "e7fe71c4",
   "metadata": {
    "scrolled": false
   },
   "outputs": [
    {
     "name": "stderr",
     "output_type": "stream",
     "text": [
      "C:\\Users\\you75\\AppData\\Local\\Temp\\ipykernel_5644\\2917676713.py:5: SettingWithCopyWarning: \n",
      "A value is trying to be set on a copy of a slice from a DataFrame.\n",
      "Try using .loc[row_indexer,col_indexer] = value instead\n",
      "\n",
      "See the caveats in the documentation: https://pandas.pydata.org/pandas-docs/stable/user_guide/indexing.html#returning-a-view-versus-a-copy\n",
      "  client_having_birthday[\"age\"] = round(((pd.to_datetime('today') - pd.to_datetime(client_having_birthday[\"DATE_DE_NAISSANCE\"])).dt.days)/365, 0).astype(int)\n"
     ]
    }
   ],
   "source": [
    "# remarque : there're 18541 french client missing their birthday info, as a result, we can drop these rows \n",
    "\n",
    "client_having_birthday = client.dropna()\n",
    "\n",
    "client_having_birthday[\"age\"] = round(((pd.to_datetime('today') - pd.to_datetime(client_having_birthday[\"DATE_DE_NAISSANCE\"])).dt.days)/365, 0).astype(int)"
   ]
  },
  {
   "cell_type": "code",
   "execution_count": 12,
   "id": "b07f6aab",
   "metadata": {},
   "outputs": [
    {
     "name": "stderr",
     "output_type": "stream",
     "text": [
      "C:\\Users\\you75\\AppData\\Local\\Temp\\ipykernel_5644\\2135202253.py:13: SettingWithCopyWarning: \n",
      "A value is trying to be set on a copy of a slice from a DataFrame.\n",
      "Try using .loc[row_indexer,col_indexer] = value instead\n",
      "\n",
      "See the caveats in the documentation: https://pandas.pydata.org/pandas-docs/stable/user_guide/indexing.html#returning-a-view-versus-a-copy\n",
      "  vente_2023_01[\"NIGHTWEAR or NOT\"] = np.where(vente_2023_01[\"SEGMENT\"] == \"NIGHTWEAR\", \"NIGHTWEAR\", \"Others\" )\n"
     ]
    },
    {
     "data": {
      "text/html": [
       "<div>\n",
       "<style scoped>\n",
       "    .dataframe tbody tr th:only-of-type {\n",
       "        vertical-align: middle;\n",
       "    }\n",
       "\n",
       "    .dataframe tbody tr th {\n",
       "        vertical-align: top;\n",
       "    }\n",
       "\n",
       "    .dataframe thead th {\n",
       "        text-align: right;\n",
       "    }\n",
       "</style>\n",
       "<table border=\"1\" class=\"dataframe\">\n",
       "  <thead>\n",
       "    <tr style=\"text-align: right;\">\n",
       "      <th></th>\n",
       "      <th>age</th>\n",
       "    </tr>\n",
       "    <tr>\n",
       "      <th>NIGHTWEAR or NOT</th>\n",
       "      <th></th>\n",
       "    </tr>\n",
       "  </thead>\n",
       "  <tbody>\n",
       "    <tr>\n",
       "      <th>NIGHTWEAR</th>\n",
       "      <td>35.500</td>\n",
       "    </tr>\n",
       "    <tr>\n",
       "      <th>Others</th>\n",
       "      <td>32.828</td>\n",
       "    </tr>\n",
       "  </tbody>\n",
       "</table>\n",
       "</div>"
      ],
      "text/plain": [
       "                     age\n",
       "NIGHTWEAR or NOT        \n",
       "NIGHTWEAR         35.500\n",
       "Others            32.828"
      ]
     },
     "execution_count": 12,
     "metadata": {},
     "output_type": "execute_result"
    }
   ],
   "source": [
    "vente_client = vente.merge(client_having_birthday, on = \"RCUCRM\", how = \"inner\")\n",
    "\n",
    "vente_client_produit = vente_client.merge(produit, on = \"MCVT\", how = \"left\")\n",
    "\n",
    "# to filter the row for \"clients ayant acheté en janvier 2023\"\n",
    "\n",
    "condition1 = vente_client_produit[\"DATE_ACHAT\"].str[0:7] == '2023-01'\n",
    "\n",
    "vente_2023_01 = vente_client_produit[condition1]\n",
    "\n",
    "# Create a new column \"NIGHTWEAR or NOT\"\n",
    "\n",
    "vente_2023_01[\"NIGHTWEAR or NOT\"] = np.where(vente_2023_01[\"SEGMENT\"] == \"NIGHTWEAR\", \"NIGHTWEAR\", \"Others\" )\n",
    "\n",
    "average_age = vente_2023_01.groupby(\"NIGHTWEAR or NOT\").agg({\"age\": \"mean\"})\n",
    "\n",
    "average_age\n"
   ]
  },
  {
   "cell_type": "markdown",
   "id": "36babb13",
   "metadata": {},
   "source": [
    "## 3. Quel est le taux de churn des clients ayant acheté en 2021 ET 2022 ?\n",
    "On définit ici le churn comme suit : achat en 2021 ET 2022 mais aucun achat en 2023"
   ]
  },
  {
   "cell_type": "code",
   "execution_count": 13,
   "id": "096fca52",
   "metadata": {
    "scrolled": false
   },
   "outputs": [],
   "source": [
    "achat2021 = vente_client_produit[vente_client_produit[\"DATE_ACHAT\"].str[:4] == '2021'][[\"RCUCRM\"]]\n",
    "\n",
    "achat2022 = vente_client_produit[vente_client_produit[\"DATE_ACHAT\"].str[:4] == '2022'][[\"RCUCRM\"]]\n",
    "\n",
    "achat2023 = vente_client_produit[vente_client_produit[\"DATE_ACHAT\"].str[:4] == '2023'][[\"RCUCRM\"]]\n",
    "\n",
    "achat2021_2022 = achat2021.merge(achat2022, on = \"RCUCRM\", how = \"inner\")[[\"RCUCRM\"]]\n",
    "\n"
   ]
  },
  {
   "cell_type": "code",
   "execution_count": 14,
   "id": "ff3bfa6a",
   "metadata": {
    "scrolled": true
   },
   "outputs": [],
   "source": [
    "achat2021_2022_2023 = achat2021_2022.merge(achat2023, on = \"RCUCRM\", how = \"outer\", indicator = True)\n",
    "\n",
    "chrun_client = achat2021_2022_2023.query(\"_merge == 'left_only'\")\n",
    "\n",
    "chrun_client = chrun_client.drop_duplicates(subset = \"RCUCRM\")"
   ]
  },
  {
   "cell_type": "code",
   "execution_count": 15,
   "id": "ee74b678",
   "metadata": {
    "scrolled": true
   },
   "outputs": [
    {
     "data": {
      "text/plain": [
       "3353"
      ]
     },
     "execution_count": 15,
     "metadata": {},
     "output_type": "execute_result"
    }
   ],
   "source": [
    "nbr_churn_client = len(chrun_client)\n",
    "\n",
    "nbr_churn_client"
   ]
  },
  {
   "cell_type": "code",
   "execution_count": 16,
   "id": "e302bc3f",
   "metadata": {},
   "outputs": [
    {
     "data": {
      "text/plain": [
       "8635"
      ]
     },
     "execution_count": 16,
     "metadata": {},
     "output_type": "execute_result"
    }
   ],
   "source": [
    "total_nbr_client = len(achat2021_2022.drop_duplicates(subset = \"RCUCRM\"))\n",
    "\n",
    "total_nbr_client"
   ]
  },
  {
   "cell_type": "code",
   "execution_count": 17,
   "id": "e46b1393",
   "metadata": {},
   "outputs": [
    {
     "data": {
      "text/plain": [
       "38.8"
      ]
     },
     "execution_count": 17,
     "metadata": {},
     "output_type": "execute_result"
    }
   ],
   "source": [
    "chrun_rate = round(nbr_churn_client/total_nbr_client * 100, 1)\n",
    "\n",
    "chrun_rate"
   ]
  },
  {
   "cell_type": "markdown",
   "id": "383faaba",
   "metadata": {},
   "source": [
    "## 4. Quelle est la fréquence d'achat 2023 des clients qui étaient omnicanaux en 2023 ? Comment se découpe cette fréquence entre le MAG et le WEB ?\n",
    "Omnicanaux = clients ayant acheté à la fois en magasin et sur le WEB \n",
    "\n",
    "Fréquence d’achat : nombre d’achats moyen des clients en 2023\n",
    "\n",
    "Exemple : les clients omnicanaux ont réalisé 4.5 achats en 2023 (dont 3 en MAG et 1.5 sur le WEB)."
   ]
  },
  {
   "cell_type": "code",
   "execution_count": 18,
   "id": "8a4f0ba6",
   "metadata": {},
   "outputs": [],
   "source": [
    "vente_2023 = vente[vente[\"DATE_ACHAT\"].str[0:4] == \"2023\"]\n",
    "\n",
    "client_MAG = vente_2023.query(\"CANAL == 'MAG'\")\n",
    "\n",
    "client_WEB = vente_2023.query(\"CANAL == 'WEB'\")\n",
    "\n",
    "client_OMNI = client_MAG.merge(client_WEB, how = \"inner\", on = \"RCUCRM\")[[\"RCUCRM\"]].drop_duplicates()"
   ]
  },
  {
   "cell_type": "code",
   "execution_count": 19,
   "id": "b6a7ae55",
   "metadata": {},
   "outputs": [
    {
     "data": {
      "text/html": [
       "<div>\n",
       "<style scoped>\n",
       "    .dataframe tbody tr th:only-of-type {\n",
       "        vertical-align: middle;\n",
       "    }\n",
       "\n",
       "    .dataframe tbody tr th {\n",
       "        vertical-align: top;\n",
       "    }\n",
       "\n",
       "    .dataframe thead th {\n",
       "        text-align: right;\n",
       "    }\n",
       "</style>\n",
       "<table border=\"1\" class=\"dataframe\">\n",
       "  <thead>\n",
       "    <tr style=\"text-align: right;\">\n",
       "      <th></th>\n",
       "      <th>CANAL</th>\n",
       "      <th>RCUCRM</th>\n",
       "    </tr>\n",
       "  </thead>\n",
       "  <tbody>\n",
       "    <tr>\n",
       "      <th>0</th>\n",
       "      <td>MAG</td>\n",
       "      <td>18748</td>\n",
       "    </tr>\n",
       "    <tr>\n",
       "      <th>1</th>\n",
       "      <td>WEB</td>\n",
       "      <td>11767</td>\n",
       "    </tr>\n",
       "  </tbody>\n",
       "</table>\n",
       "</div>"
      ],
      "text/plain": [
       "  CANAL  RCUCRM\n",
       "0   MAG   18748\n",
       "1   WEB   11767"
      ]
     },
     "execution_count": 19,
     "metadata": {},
     "output_type": "execute_result"
    }
   ],
   "source": [
    "vente_OMNI = vente.merge(client_OMNI, on = \"RCUCRM\", how = \"inner\")\n",
    "\n",
    "vente_canal = vente_OMNI.groupby(\"CANAL\").agg({\"RCUCRM\":\"count\"}).reset_index()\n",
    "\n",
    "vente_canal"
   ]
  },
  {
   "cell_type": "code",
   "execution_count": 20,
   "id": "a68b8fb7",
   "metadata": {},
   "outputs": [
    {
     "data": {
      "text/plain": [
       "1.59"
      ]
     },
     "execution_count": 20,
     "metadata": {},
     "output_type": "execute_result"
    }
   ],
   "source": [
    "fréquence = round(vente_canal.iloc[0,1]/vente_canal.iloc[1,1], 2)\n",
    "\n",
    "fréquence"
   ]
  },
  {
   "cell_type": "markdown",
   "id": "f86325e4",
   "metadata": {},
   "source": [
    "## 5. Quels sont les IC des clients de 2023 selon leur tranche d'âge ?\n",
    "\n",
    "Définition des IC (indicateurs commerciaux) :\n",
    "\n",
    "• Panier moyen = somme CA / total achats uniques\n",
    "\n",
    "• Fréquence d’achat = total achats uniques / total clients uniques\n",
    "\n",
    "• CA moyen = somme CA / total clients uniques\n",
    "\n",
    "• Nombre d’articles moyen au panier = total articles / total achats uniques\n",
    "\n",
    "Vous êtes libre de définir les tranches d’âge qui vous semble les plus cohérentes."
   ]
  },
  {
   "cell_type": "code",
   "execution_count": 21,
   "id": "0e4d2350",
   "metadata": {},
   "outputs": [
    {
     "data": {
      "image/png": "[encoded data removed]",
      "text/plain": [
       "<Figure size 640x480 with 1 Axes>"
      ]
     },
     "metadata": {},
     "output_type": "display_data"
    }
   ],
   "source": [
    "# we can take the table \"vente_client\" that we created at exercise 2\n",
    "\n",
    "vente_client_2023 = vente_client[vente_client[\"DATE_ACHAT\"].str[:4] == \"2023\"]\n",
    "\n",
    "vente_client_2023.age.hist(bins = 50)\n",
    "\n",
    "plt.show()"
   ]
  },
  {
   "cell_type": "code",
   "execution_count": 22,
   "id": "105b60a6",
   "metadata": {},
   "outputs": [
    {
     "name": "stderr",
     "output_type": "stream",
     "text": [
      "C:\\Users\\you75\\AppData\\Local\\Temp\\ipykernel_5644\\4246126098.py:6: SettingWithCopyWarning: \n",
      "A value is trying to be set on a copy of a slice from a DataFrame.\n",
      "Try using .loc[row_indexer,col_indexer] = value instead\n",
      "\n",
      "See the caveats in the documentation: https://pandas.pydata.org/pandas-docs/stable/user_guide/indexing.html#returning-a-view-versus-a-copy\n",
      "  vente_client_2023[\"AgeGroup\"]=pd.cut(vente_client_2023[\"age\"], bins = bins, labels = labels, right = False)\n"
     ]
    }
   ],
   "source": [
    "# Create age group \n",
    "\n",
    "bins = [0, 19, 29, 39, 49, 59, 69, 140]\n",
    "labels = [ \"Adolescents\", \"Jeunes adultes\", \"Adultes\", \"Adultes d'âge moyen\", \"Adultes mûrs\", \"Seniors jeunes\", \"Seniors\"]\n",
    "\n",
    "vente_client_2023[\"AgeGroup\"]=pd.cut(vente_client_2023[\"age\"], bins = bins, labels = labels, right = False)"
   ]
  },
  {
   "cell_type": "code",
   "execution_count": 23,
   "id": "32de003a",
   "metadata": {},
   "outputs": [],
   "source": [
    "pivot_table = vente_client_2023.groupby(\"AgeGroup\").agg({\"CATTC\":\"sum\", \"NUM_ACHAT\":\"nunique\", \"RCUCRM\":\"nunique\", \"MCVT\":\"count\" })\n",
    "pivot_table.columns=[\"somme CA\", \"total achat unique\", \"total client unique\", \"total articles\"]\n",
    "pivot_table = pivot_table.reset_index()"
   ]
  },
  {
   "cell_type": "code",
   "execution_count": 24,
   "id": "4fced3f9",
   "metadata": {},
   "outputs": [
    {
     "data": {
      "text/html": [
       "<div>\n",
       "<style scoped>\n",
       "    .dataframe tbody tr th:only-of-type {\n",
       "        vertical-align: middle;\n",
       "    }\n",
       "\n",
       "    .dataframe tbody tr th {\n",
       "        vertical-align: top;\n",
       "    }\n",
       "\n",
       "    .dataframe thead th {\n",
       "        text-align: right;\n",
       "    }\n",
       "</style>\n",
       "<table border=\"1\" class=\"dataframe\">\n",
       "  <thead>\n",
       "    <tr style=\"text-align: right;\">\n",
       "      <th></th>\n",
       "      <th>AgeGroup</th>\n",
       "      <th>Panier moyen</th>\n",
       "      <th>Fréquence d’achat</th>\n",
       "      <th>CA moyen</th>\n",
       "      <th>Nombre d’articles moyen au panier</th>\n",
       "    </tr>\n",
       "  </thead>\n",
       "  <tbody>\n",
       "    <tr>\n",
       "      <th>0</th>\n",
       "      <td>Adolescents</td>\n",
       "      <td>30.089726</td>\n",
       "      <td>2.05</td>\n",
       "      <td>61.763122</td>\n",
       "      <td>2.85</td>\n",
       "    </tr>\n",
       "    <tr>\n",
       "      <th>1</th>\n",
       "      <td>Jeunes adultes</td>\n",
       "      <td>34.155843</td>\n",
       "      <td>2.10</td>\n",
       "      <td>71.829706</td>\n",
       "      <td>3.21</td>\n",
       "    </tr>\n",
       "    <tr>\n",
       "      <th>2</th>\n",
       "      <td>Adultes</td>\n",
       "      <td>38.932319</td>\n",
       "      <td>1.85</td>\n",
       "      <td>72.125689</td>\n",
       "      <td>3.58</td>\n",
       "    </tr>\n",
       "    <tr>\n",
       "      <th>3</th>\n",
       "      <td>Adultes d'âge moyen</td>\n",
       "      <td>37.855333</td>\n",
       "      <td>1.97</td>\n",
       "      <td>74.533519</td>\n",
       "      <td>3.47</td>\n",
       "    </tr>\n",
       "    <tr>\n",
       "      <th>4</th>\n",
       "      <td>Adultes mûrs</td>\n",
       "      <td>36.465257</td>\n",
       "      <td>2.05</td>\n",
       "      <td>74.787241</td>\n",
       "      <td>3.40</td>\n",
       "    </tr>\n",
       "    <tr>\n",
       "      <th>5</th>\n",
       "      <td>Seniors jeunes</td>\n",
       "      <td>31.832361</td>\n",
       "      <td>1.70</td>\n",
       "      <td>54.178256</td>\n",
       "      <td>2.96</td>\n",
       "    </tr>\n",
       "    <tr>\n",
       "      <th>6</th>\n",
       "      <td>Seniors</td>\n",
       "      <td>32.187411</td>\n",
       "      <td>1.85</td>\n",
       "      <td>59.657701</td>\n",
       "      <td>2.91</td>\n",
       "    </tr>\n",
       "  </tbody>\n",
       "</table>\n",
       "</div>"
      ],
      "text/plain": [
       "              AgeGroup  Panier moyen  Fréquence d’achat   CA moyen  \\\n",
       "0          Adolescents     30.089726               2.05  61.763122   \n",
       "1       Jeunes adultes     34.155843               2.10  71.829706   \n",
       "2              Adultes     38.932319               1.85  72.125689   \n",
       "3  Adultes d'âge moyen     37.855333               1.97  74.533519   \n",
       "4         Adultes mûrs     36.465257               2.05  74.787241   \n",
       "5       Seniors jeunes     31.832361               1.70  54.178256   \n",
       "6              Seniors     32.187411               1.85  59.657701   \n",
       "\n",
       "   Nombre d’articles moyen au panier  \n",
       "0                               2.85  \n",
       "1                               3.21  \n",
       "2                               3.58  \n",
       "3                               3.47  \n",
       "4                               3.40  \n",
       "5                               2.96  \n",
       "6                               2.91  "
      ]
     },
     "execution_count": 24,
     "metadata": {},
     "output_type": "execute_result"
    }
   ],
   "source": [
    "pivot_table[\"Panier moyen\"] = pivot_table[\"somme CA\"] / pivot_table[\"total achat unique\"]\n",
    "pivot_table[\"Fréquence d’achat\"] = round(pivot_table[\"total achat unique\"] / pivot_table[\"total client unique\"], 2)\n",
    "pivot_table[\"CA moyen\"] = pivot_table[\"somme CA\"] / pivot_table[\"total client unique\"]\n",
    "pivot_table[\"Nombre d’articles moyen au panier\"] = round(pivot_table[\"total articles\"] / pivot_table[\"total achat unique\"], 2)\n",
    "\n",
    "pivot_table[[\"AgeGroup\", \"Panier moyen\", \"Fréquence d’achat\", \"CA moyen\", \"Nombre d’articles moyen au panier\"]]"
   ]
  },
  {
   "cell_type": "markdown",
   "id": "294061c7",
   "metadata": {},
   "source": [
    "## 6. En 2023, quels sont les segments les plus fréquemment cross-sellés avec un achat contenant du NIGHTWEAR ? \n",
    "\n",
    "## Combien d’achats ne contenaient QUE du NIGHTWEAR ?"
   ]
  },
  {
   "cell_type": "code",
   "execution_count": 25,
   "id": "3bcfe1c8",
   "metadata": {},
   "outputs": [
    {
     "data": {
      "text/html": [
       "<div>\n",
       "<style scoped>\n",
       "    .dataframe tbody tr th:only-of-type {\n",
       "        vertical-align: middle;\n",
       "    }\n",
       "\n",
       "    .dataframe tbody tr th {\n",
       "        vertical-align: top;\n",
       "    }\n",
       "\n",
       "    .dataframe thead th {\n",
       "        text-align: right;\n",
       "    }\n",
       "</style>\n",
       "<table border=\"1\" class=\"dataframe\">\n",
       "  <thead>\n",
       "    <tr style=\"text-align: right;\">\n",
       "      <th></th>\n",
       "      <th>RCUCRM</th>\n",
       "      <th>MCVT</th>\n",
       "      <th>SAISON_x</th>\n",
       "      <th>PLANT</th>\n",
       "      <th>CANAL</th>\n",
       "      <th>NUM_ACHAT</th>\n",
       "      <th>DATE_ACHAT</th>\n",
       "      <th>SEMAINE_ETAM</th>\n",
       "      <th>PAYS_ACHAT</th>\n",
       "      <th>CATTC</th>\n",
       "      <th>DATE_MONTH</th>\n",
       "      <th>SAISON_y</th>\n",
       "      <th>SEGMENT</th>\n",
       "    </tr>\n",
       "  </thead>\n",
       "  <tbody>\n",
       "    <tr>\n",
       "      <th>0</th>\n",
       "      <td>33731521.0</td>\n",
       "      <td>654342121007</td>\n",
       "      <td>20230002</td>\n",
       "      <td>2483</td>\n",
       "      <td>MAG</td>\n",
       "      <td>20231221248302183651</td>\n",
       "      <td>2023-12-21</td>\n",
       "      <td>2023051</td>\n",
       "      <td>FR</td>\n",
       "      <td>19.99</td>\n",
       "      <td>12</td>\n",
       "      <td>20230002</td>\n",
       "      <td>NIGHTWEAR</td>\n",
       "    </tr>\n",
       "    <tr>\n",
       "      <th>1</th>\n",
       "      <td>33731521.0</td>\n",
       "      <td>654331966005</td>\n",
       "      <td>20230002</td>\n",
       "      <td>2483</td>\n",
       "      <td>MAG</td>\n",
       "      <td>20231221248302183652</td>\n",
       "      <td>2023-12-21</td>\n",
       "      <td>2023051</td>\n",
       "      <td>FR</td>\n",
       "      <td>15.99</td>\n",
       "      <td>12</td>\n",
       "      <td>20230002</td>\n",
       "      <td>NIGHTWEAR</td>\n",
       "    </tr>\n",
       "    <tr>\n",
       "      <th>2</th>\n",
       "      <td>33731521.0</td>\n",
       "      <td>654304457005</td>\n",
       "      <td>20230002</td>\n",
       "      <td>2483</td>\n",
       "      <td>MAG</td>\n",
       "      <td>20231221248302183652</td>\n",
       "      <td>2023-12-21</td>\n",
       "      <td>2023051</td>\n",
       "      <td>FR</td>\n",
       "      <td>6.99</td>\n",
       "      <td>12</td>\n",
       "      <td>20230002</td>\n",
       "      <td>DAYWEAR</td>\n",
       "    </tr>\n",
       "    <tr>\n",
       "      <th>3</th>\n",
       "      <td>33731521.0</td>\n",
       "      <td>654316057005</td>\n",
       "      <td>20230002</td>\n",
       "      <td>2483</td>\n",
       "      <td>MAG</td>\n",
       "      <td>20231221248302183652</td>\n",
       "      <td>2023-12-21</td>\n",
       "      <td>2023051</td>\n",
       "      <td>FR</td>\n",
       "      <td>6.99</td>\n",
       "      <td>12</td>\n",
       "      <td>20230002</td>\n",
       "      <td>DAYWEAR</td>\n",
       "    </tr>\n",
       "    <tr>\n",
       "      <th>4</th>\n",
       "      <td>20702856.0</td>\n",
       "      <td>653996363002</td>\n",
       "      <td>20230001</td>\n",
       "      <td>2182</td>\n",
       "      <td>MAG</td>\n",
       "      <td>20230519218256003403</td>\n",
       "      <td>2023-05-19</td>\n",
       "      <td>2023020</td>\n",
       "      <td>FR</td>\n",
       "      <td>24.99</td>\n",
       "      <td>05</td>\n",
       "      <td>20230002</td>\n",
       "      <td>NIGHTWEAR</td>\n",
       "    </tr>\n",
       "  </tbody>\n",
       "</table>\n",
       "</div>"
      ],
      "text/plain": [
       "       RCUCRM          MCVT  SAISON_x  PLANT CANAL             NUM_ACHAT  \\\n",
       "0  33731521.0  654342121007  20230002   2483   MAG  20231221248302183651   \n",
       "1  33731521.0  654331966005  20230002   2483   MAG  20231221248302183652   \n",
       "2  33731521.0  654304457005  20230002   2483   MAG  20231221248302183652   \n",
       "3  33731521.0  654316057005  20230002   2483   MAG  20231221248302183652   \n",
       "4  20702856.0  653996363002  20230001   2182   MAG  20230519218256003403   \n",
       "\n",
       "   DATE_ACHAT  SEMAINE_ETAM PAYS_ACHAT  CATTC DATE_MONTH  SAISON_y    SEGMENT  \n",
       "0  2023-12-21       2023051         FR  19.99         12  20230002  NIGHTWEAR  \n",
       "1  2023-12-21       2023051         FR  15.99         12  20230002  NIGHTWEAR  \n",
       "2  2023-12-21       2023051         FR   6.99         12  20230002    DAYWEAR  \n",
       "3  2023-12-21       2023051         FR   6.99         12  20230002    DAYWEAR  \n",
       "4  2023-05-19       2023020         FR  24.99         05  20230002  NIGHTWEAR  "
      ]
     },
     "execution_count": 25,
     "metadata": {},
     "output_type": "execute_result"
    }
   ],
   "source": [
    "vente_2023 = vente[vente[\"DATE_ACHAT\"].str[:4] == \"2023\"]\n",
    "\n",
    "vente_produit2023 = vente_2023.merge(produit, on = \"MCVT\", how = \"left\")\n",
    "\n",
    "vente_produit2023.head()"
   ]
  },
  {
   "cell_type": "code",
   "execution_count": 84,
   "id": "b76cf9e3",
   "metadata": {},
   "outputs": [
    {
     "data": {
      "text/plain": [
       "DAYWEAR    17809\n",
       "MAN         2703\n",
       "BEACH       1277\n",
       "SPORT        202\n",
       "Name: SEGMENT, dtype: int64"
      ]
     },
     "execution_count": 84,
     "metadata": {},
     "output_type": "execute_result"
    }
   ],
   "source": [
    "order_nightwear = vente_produit2023.query('SEGMENT == \"NIGHTWEAR\"')[[\"NUM_ACHAT\"]]\n",
    "\n",
    "order_crosssale = vente_produit2023[vente_produit2023[\"NUM_ACHAT\"].isin(order_nightwear[\"NUM_ACHAT\"])].query('SEGMENT != \"NIGHTWEAR\"')\n",
    "\n",
    "order_crosssale.SEGMENT.value_counts()"
   ]
  },
  {
   "cell_type": "code",
   "execution_count": 88,
   "id": "1dfa41f2",
   "metadata": {},
   "outputs": [
    {
     "data": {
      "text/plain": [
       "7949"
      ]
     },
     "execution_count": 88,
     "metadata": {},
     "output_type": "execute_result"
    }
   ],
   "source": [
    "# Combien d’achats ne contenaient QUE du NIGHTWEAR ? \n",
    "# order_nightwear - order_crosssale\n",
    "\n",
    "order_nightwear[\"NUM_ACHAT\"].nunique() - order_crosssale[\"NUM_ACHAT\"].nunique()"
   ]
  },
  {
   "cell_type": "markdown",
   "id": "c1c30366",
   "metadata": {},
   "source": [
    "## 7. Quel est le panier moyen des clients ayant réalisé 1 achat en 2023 vs 2+ achats ?\n",
    "\n",
    "Panier moyen = somme CA / total achats uniques"
   ]
  },
  {
   "cell_type": "code",
   "execution_count": 31,
   "id": "d43d2273",
   "metadata": {},
   "outputs": [
    {
     "data": {
      "text/html": [
       "<div>\n",
       "<style scoped>\n",
       "    .dataframe tbody tr th:only-of-type {\n",
       "        vertical-align: middle;\n",
       "    }\n",
       "\n",
       "    .dataframe tbody tr th {\n",
       "        vertical-align: top;\n",
       "    }\n",
       "\n",
       "    .dataframe thead th {\n",
       "        text-align: right;\n",
       "    }\n",
       "</style>\n",
       "<table border=\"1\" class=\"dataframe\">\n",
       "  <thead>\n",
       "    <tr style=\"text-align: right;\">\n",
       "      <th></th>\n",
       "      <th>RCUCRM</th>\n",
       "      <th>MCVT</th>\n",
       "      <th>SAISON</th>\n",
       "      <th>PLANT</th>\n",
       "      <th>CANAL</th>\n",
       "      <th>NUM_ACHAT</th>\n",
       "      <th>DATE_ACHAT</th>\n",
       "      <th>SEMAINE_ETAM</th>\n",
       "      <th>PAYS_ACHAT</th>\n",
       "      <th>CATTC</th>\n",
       "      <th>DATE_MONTH</th>\n",
       "    </tr>\n",
       "  </thead>\n",
       "  <tbody>\n",
       "    <tr>\n",
       "      <th>4</th>\n",
       "      <td>33731521.0</td>\n",
       "      <td>654342121007</td>\n",
       "      <td>20230002</td>\n",
       "      <td>2483</td>\n",
       "      <td>MAG</td>\n",
       "      <td>20231221248302183651</td>\n",
       "      <td>2023-12-21</td>\n",
       "      <td>2023051</td>\n",
       "      <td>FR</td>\n",
       "      <td>19.99</td>\n",
       "      <td>12</td>\n",
       "    </tr>\n",
       "    <tr>\n",
       "      <th>5</th>\n",
       "      <td>33731521.0</td>\n",
       "      <td>654331966005</td>\n",
       "      <td>20230002</td>\n",
       "      <td>2483</td>\n",
       "      <td>MAG</td>\n",
       "      <td>20231221248302183652</td>\n",
       "      <td>2023-12-21</td>\n",
       "      <td>2023051</td>\n",
       "      <td>FR</td>\n",
       "      <td>15.99</td>\n",
       "      <td>12</td>\n",
       "    </tr>\n",
       "    <tr>\n",
       "      <th>6</th>\n",
       "      <td>33731521.0</td>\n",
       "      <td>654304457005</td>\n",
       "      <td>20230002</td>\n",
       "      <td>2483</td>\n",
       "      <td>MAG</td>\n",
       "      <td>20231221248302183652</td>\n",
       "      <td>2023-12-21</td>\n",
       "      <td>2023051</td>\n",
       "      <td>FR</td>\n",
       "      <td>6.99</td>\n",
       "      <td>12</td>\n",
       "    </tr>\n",
       "    <tr>\n",
       "      <th>7</th>\n",
       "      <td>33731521.0</td>\n",
       "      <td>654316057005</td>\n",
       "      <td>20230002</td>\n",
       "      <td>2483</td>\n",
       "      <td>MAG</td>\n",
       "      <td>20231221248302183652</td>\n",
       "      <td>2023-12-21</td>\n",
       "      <td>2023051</td>\n",
       "      <td>FR</td>\n",
       "      <td>6.99</td>\n",
       "      <td>12</td>\n",
       "    </tr>\n",
       "    <tr>\n",
       "      <th>39</th>\n",
       "      <td>20702856.0</td>\n",
       "      <td>653996363002</td>\n",
       "      <td>20230001</td>\n",
       "      <td>2182</td>\n",
       "      <td>MAG</td>\n",
       "      <td>20230519218256003403</td>\n",
       "      <td>2023-05-19</td>\n",
       "      <td>2023020</td>\n",
       "      <td>FR</td>\n",
       "      <td>24.99</td>\n",
       "      <td>05</td>\n",
       "    </tr>\n",
       "  </tbody>\n",
       "</table>\n",
       "</div>"
      ],
      "text/plain": [
       "        RCUCRM          MCVT    SAISON  PLANT CANAL             NUM_ACHAT  \\\n",
       "4   33731521.0  654342121007  20230002   2483   MAG  20231221248302183651   \n",
       "5   33731521.0  654331966005  20230002   2483   MAG  20231221248302183652   \n",
       "6   33731521.0  654304457005  20230002   2483   MAG  20231221248302183652   \n",
       "7   33731521.0  654316057005  20230002   2483   MAG  20231221248302183652   \n",
       "39  20702856.0  653996363002  20230001   2182   MAG  20230519218256003403   \n",
       "\n",
       "    DATE_ACHAT  SEMAINE_ETAM PAYS_ACHAT  CATTC DATE_MONTH  \n",
       "4   2023-12-21       2023051         FR  19.99         12  \n",
       "5   2023-12-21       2023051         FR  15.99         12  \n",
       "6   2023-12-21       2023051         FR   6.99         12  \n",
       "7   2023-12-21       2023051         FR   6.99         12  \n",
       "39  2023-05-19       2023020         FR  24.99         05  "
      ]
     },
     "execution_count": 31,
     "metadata": {},
     "output_type": "execute_result"
    }
   ],
   "source": [
    "vente_2023.head()"
   ]
  },
  {
   "cell_type": "code",
   "execution_count": 49,
   "id": "0d8eca83",
   "metadata": {},
   "outputs": [
    {
     "name": "stderr",
     "output_type": "stream",
     "text": [
      "C:\\Users\\you75\\AppData\\Local\\Temp\\ipykernel_5644\\3259459798.py:4: SettingWithCopyWarning: \n",
      "A value is trying to be set on a copy of a slice from a DataFrame.\n",
      "Try using .loc[row_indexer,col_indexer] = value instead\n",
      "\n",
      "See the caveats in the documentation: https://pandas.pydata.org/pandas-docs/stable/user_guide/indexing.html#returning-a-view-versus-a-copy\n",
      "  vente_2023[\"1 or plusieurs achats\"] = np.where(vente_2023.RCUCRM.isin(client_un_achat), \"1 achat\", \"2+ achats\")\n"
     ]
    }
   ],
   "source": [
    "pivot_table = vente_2023.groupby(\"RCUCRM\").agg({\"NUM_ACHAT\" : \"nunique\"}).sort_values(\"NUM_ACHAT\", ascending = False).reset_index()\n",
    "client_un_achat = pivot_table.query(\"NUM_ACHAT == 1\")[\"RCUCRM\"]\n",
    "\n",
    "vente_2023[\"1 or plusieurs achats\"] = np.where(vente_2023.RCUCRM.isin(client_un_achat), \"1 achat\", \"2+ achats\")"
   ]
  },
  {
   "cell_type": "code",
   "execution_count": 51,
   "id": "5a32009a",
   "metadata": {
    "scrolled": true
   },
   "outputs": [
    {
     "data": {
      "text/plain": [
       "2+ achats    91526\n",
       "1 achat      44246\n",
       "Name: 1 or plusieurs achats, dtype: int64"
      ]
     },
     "execution_count": 51,
     "metadata": {},
     "output_type": "execute_result"
    }
   ],
   "source": [
    "vente_2023[\"1 or plusieurs achats\"].value_counts()"
   ]
  },
  {
   "cell_type": "code",
   "execution_count": 57,
   "id": "d2f36076",
   "metadata": {
    "scrolled": true
   },
   "outputs": [
    {
     "data": {
      "text/html": [
       "<div>\n",
       "<style scoped>\n",
       "    .dataframe tbody tr th:only-of-type {\n",
       "        vertical-align: middle;\n",
       "    }\n",
       "\n",
       "    .dataframe tbody tr th {\n",
       "        vertical-align: top;\n",
       "    }\n",
       "\n",
       "    .dataframe thead th {\n",
       "        text-align: right;\n",
       "    }\n",
       "</style>\n",
       "<table border=\"1\" class=\"dataframe\">\n",
       "  <thead>\n",
       "    <tr style=\"text-align: right;\">\n",
       "      <th></th>\n",
       "      <th>somme CA</th>\n",
       "      <th>total achats uniques</th>\n",
       "      <th>panier moyen</th>\n",
       "    </tr>\n",
       "    <tr>\n",
       "      <th>1 or plusieurs achats</th>\n",
       "      <th></th>\n",
       "      <th></th>\n",
       "      <th></th>\n",
       "    </tr>\n",
       "  </thead>\n",
       "  <tbody>\n",
       "    <tr>\n",
       "      <th>1 achat</th>\n",
       "      <td>474093.96</td>\n",
       "      <td>12875</td>\n",
       "      <td>36.822832</td>\n",
       "    </tr>\n",
       "    <tr>\n",
       "      <th>2+ achats</th>\n",
       "      <td>986661.63</td>\n",
       "      <td>28002</td>\n",
       "      <td>35.235399</td>\n",
       "    </tr>\n",
       "  </tbody>\n",
       "</table>\n",
       "</div>"
      ],
      "text/plain": [
       "                        somme CA  total achats uniques  panier moyen\n",
       "1 or plusieurs achats                                               \n",
       "1 achat                474093.96                 12875     36.822832\n",
       "2+ achats              986661.63                 28002     35.235399"
      ]
     },
     "execution_count": 57,
     "metadata": {},
     "output_type": "execute_result"
    }
   ],
   "source": [
    "compare_table = vente_2023.groupby(\"1 or plusieurs achats\").agg({\"CATTC\" : \"sum\", \"NUM_ACHAT\" : \"nunique\"})\n",
    "compare_table.columns = [\"somme CA\", \"total achats uniques\"]\n",
    "compare_table[\"panier moyen\"] = compare_table[\"somme CA\"] / compare_table[\"total achats uniques\"]\n",
    "compare_table"
   ]
  }
 ],
 "metadata": {
  "kernelspec": {
   "display_name": "Python 3 (ipykernel)",
   "language": "python",
   "name": "python3"
  },
  "language_info": {
   "codemirror_mode": {
    "name": "ipython",
    "version": 3
   },
   "file_extension": ".py",
   "mimetype": "text/x-python",
   "name": "python",
   "nbconvert_exporter": "python",
   "pygments_lexer": "ipython3",
   "version": "3.9.13"
  }
 },
 "nbformat": 4,
 "nbformat_minor": 5
}
